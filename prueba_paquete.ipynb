{
 "cells": [
  {
   "cell_type": "markdown",
   "metadata": {},
   "source": [
    "# Prueba paquete"
   ]
  },
  {
   "cell_type": "code",
   "execution_count": 1,
   "metadata": {},
   "outputs": [
    {
     "name": "stdout",
     "output_type": "stream",
     "text": [
      "Collecting ffmaxflow==0.0.2\n",
      "  Downloading ffmaxflow-0.0.2.tar.gz (3.1 kB)\n",
      "Requirement already satisfied: collections-extended in /home/diramtz/anaconda3/lib/python3.8/site-packages (from ffmaxflow==0.0.2) (1.0.3)\n",
      "Requirement already satisfied: setuptools in /home/diramtz/anaconda3/lib/python3.8/site-packages (from collections-extended->ffmaxflow==0.0.2) (50.3.1.post20201107)\n",
      "Building wheels for collected packages: ffmaxflow\n",
      "  Building wheel for ffmaxflow (setup.py) ... \u001b[?25ldone\n",
      "\u001b[?25h  Created wheel for ffmaxflow: filename=ffmaxflow-0.0.2-py3-none-any.whl size=3074 sha256=b77eb93c68d89322392498cc0fc7415da2602df896074beef2fbda71bb8ec031\n",
      "  Stored in directory: /home/diramtz/.cache/pip/wheels/09/e6/ba/0e824a0fe74addbd3014aa51c03453f6b5ce85792420ebfbd2\n",
      "Successfully built ffmaxflow\n",
      "Installing collected packages: ffmaxflow\n",
      "Successfully installed ffmaxflow-0.0.2\n"
     ]
    }
   ],
   "source": [
    "!pip install ffmaxflow==0.0.2"
   ]
  },
  {
   "cell_type": "code",
   "execution_count": 3,
   "metadata": {},
   "outputs": [],
   "source": [
    "import ffmaxflow as ff"
   ]
  },
  {
   "cell_type": "code",
   "execution_count": 4,
   "metadata": {},
   "outputs": [],
   "source": [
    "red = ff.create_flow_network()"
   ]
  },
  {
   "cell_type": "code",
   "execution_count": 5,
   "metadata": {},
   "outputs": [],
   "source": [
    "red.create_vertex('o', True, False) # Nodo origen\n",
    "red.create_vertex('t', False, True) # Nodo destino\n",
    "red.create_vertex('a', False, False)# Nodos intermedios\n",
    "red.create_vertex('b', False, False)\n",
    "red.create_vertex('c', False, False)\n",
    "red.create_vertex('d', False, False)\n",
    "red.create_vertex('e', False, False)"
   ]
  },
  {
   "cell_type": "code",
   "execution_count": 6,
   "metadata": {},
   "outputs": [],
   "source": [
    "red.create_edge('o', 'a', 5)\n",
    "red.create_edge('o', 'b', 7)\n",
    "red.create_edge('o', 'c', 4)\n",
    "\n",
    "red.create_edge('a', 'b', 1)\n",
    "red.create_edge('a', 'd', 3)\n",
    "\n",
    "red.create_edge('b', 'c', 2)\n",
    "red.create_edge('b', 'd', 4)\n",
    "red.create_edge('b', 'e', 5)\n",
    "\n",
    "red.create_edge('c', 'e', 4)\n",
    "\n",
    "red.create_edge('d', 't', 9)\n",
    "\n",
    "red.create_edge('e', 'd', 1)\n",
    "red.create_edge('e', 't', 9)"
   ]
  },
  {
   "cell_type": "code",
   "execution_count": 7,
   "metadata": {},
   "outputs": [
    {
     "data": {
      "text/plain": [
       "15"
      ]
     },
     "execution_count": 7,
     "metadata": {},
     "output_type": "execute_result"
    }
   ],
   "source": [
    "red.MaxFlow()"
   ]
  },
  {
   "cell_type": "code",
   "execution_count": null,
   "metadata": {},
   "outputs": [],
   "source": []
  }
 ],
 "metadata": {
  "kernelspec": {
   "display_name": "Python 3",
   "language": "python",
   "name": "python3"
  },
  "language_info": {
   "codemirror_mode": {
    "name": "ipython",
    "version": 3
   },
   "file_extension": ".py",
   "mimetype": "text/x-python",
   "name": "python",
   "nbconvert_exporter": "python",
   "pygments_lexer": "ipython3",
   "version": "3.8.5"
  }
 },
 "nbformat": 4,
 "nbformat_minor": 4
}
